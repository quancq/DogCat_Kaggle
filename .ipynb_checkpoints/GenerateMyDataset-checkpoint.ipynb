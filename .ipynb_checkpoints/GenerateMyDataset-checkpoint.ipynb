{
 "cells": [
  {
   "cell_type": "code",
   "execution_count": 1,
   "metadata": {},
   "outputs": [],
   "source": [
    "import os, shutil"
   ]
  },
  {
   "cell_type": "code",
   "execution_count": 2,
   "metadata": {},
   "outputs": [],
   "source": [
    "original_dataset_dir = 'D:\\Dataset\\kaggle\\DogVsCat-25000'\n",
    "base_dir = 'D:/Dataset/kaggle/DogVsCat-4000'"
   ]
  },
  {
   "cell_type": "code",
   "execution_count": 4,
   "metadata": {},
   "outputs": [],
   "source": [
    "# create directory for training, validation, test split\n",
    "train_dir = os.path.join(base_dir, 'train')\n",
    "os.mkdir(train_dir)\n",
    "validation_dir = os.path.join(base_dir, 'valid')\n",
    "os.mkdir(validation_dir)\n",
    "test_dir = os.path.join(base_dir, 'test')\n",
    "os.mkdir(test_dir)"
   ]
  },
  {
   "cell_type": "code",
   "execution_count": 5,
   "metadata": {},
   "outputs": [],
   "source": [
    "# create dir for each class\n",
    "train_cat_dir = os.path.join(train_dir, 'cat')\n",
    "os.mkdir(train_cat_dir)\n",
    "train_dog_dir = os.path.join(train_dir, 'dog')\n",
    "os.mkdir(train_dog_dir)\n",
    "\n",
    "validation_cat_dir = os.path.join(validation_dir, 'cat')\n",
    "os.mkdir(validation_cat_dir)\n",
    "validation_dog_dir = os.path.join(validation_dir, 'dog')\n",
    "os.mkdir(validation_dog_dir)\n",
    "\n",
    "test_cat_dir = os.path.join(test_dir, 'cat')\n",
    "os.mkdir(test_cat_dir)\n",
    "test_dog_dir = os.path.join(test_dir, 'dog')\n",
    "os.mkdir(test_dog_dir)"
   ]
  },
  {
   "cell_type": "code",
   "execution_count": 12,
   "metadata": {},
   "outputs": [],
   "source": [
    "# copy images from original dir to destination dir\n",
    "# copy 1000 imgaes each class to train dir\n",
    "fnames = ['cat.{}.jpg'.format(i) for i in range(1000)] # file names\n",
    "for fname in fnames:\n",
    "    src = os.path.join(original_dataset_dir, fname)\n",
    "    dst = os.path.join(train_cat_dir, fname)\n",
    "    shutil.copyfile(src, dst)\n",
    "\n",
    "fnames = ['dog.{}.jpg'.format(i) for i in range(1000)] # file names\n",
    "for fname in fnames:\n",
    "    src = os.path.join(original_dataset_dir, fname)\n",
    "    dst = os.path.join(train_dog_dir, fname)\n",
    "    shutil.copyfile(src, dst)\n"
   ]
  },
  {
   "cell_type": "code",
   "execution_count": 13,
   "metadata": {},
   "outputs": [],
   "source": [
    "# copy 500 next imgaes each class to validation dir\n",
    "fnames = ['cat.{}.jpg'.format(i) for i in range(1000, 1500)] # file names\n",
    "for fname in fnames:\n",
    "    src = os.path.join(original_dataset_dir, fname)\n",
    "    dst = os.path.join(validation_cat_dir, fname)\n",
    "    shutil.copyfile(src, dst)\n",
    "\n",
    "fnames = ['dog.{}.jpg'.format(i) for i in range(1000, 1500)] # file names\n",
    "for fname in fnames:\n",
    "    src = os.path.join(original_dataset_dir, fname)\n",
    "    dst = os.path.join(validation_dog_dir, fname)\n",
    "    shutil.copyfile(src, dst)"
   ]
  },
  {
   "cell_type": "code",
   "execution_count": 14,
   "metadata": {},
   "outputs": [],
   "source": [
    "# copy 500 next imgaes each class to test dir\n",
    "fnames = ['cat.{}.jpg'.format(i) for i in range(1500, 2000)] # file names\n",
    "for fname in fnames:\n",
    "    src = os.path.join(original_dataset_dir, fname)\n",
    "    dst = os.path.join(test_cat_dir, fname)\n",
    "    shutil.copyfile(src, dst)\n",
    "\n",
    "fnames = ['dog.{}.jpg'.format(i) for i in range(1500, 2000)] # file names\n",
    "for fname in fnames:\n",
    "    src = os.path.join(original_dataset_dir, fname)\n",
    "    dst = os.path.join(test_dog_dir, fname)\n",
    "    shutil.copyfile(src, dst)"
   ]
  },
  {
   "cell_type": "code",
   "execution_count": 15,
   "metadata": {},
   "outputs": [
    {
     "name": "stdout",
     "output_type": "stream",
     "text": [
      "Total training cat images  :  1000\n",
      "Total training dog images  :  1000\n",
      "Total validation cat images:  500\n",
      "Total validation dog images:  500\n",
      "Total test cat images      :  500\n",
      "Total test dog images      :  500\n"
     ]
    }
   ],
   "source": [
    "# count how many picture in each split train-valid-test dataset\n",
    "print(\"Total training cat images  : \", len(os.listdir(train_cat_dir)))\n",
    "print(\"Total training dog images  : \", len(os.listdir(train_dog_dir)))\n",
    "print(\"Total validation cat images: \", len(os.listdir(validation_cat_dir)))\n",
    "print(\"Total validation dog images: \", len(os.listdir(validation_dog_dir)))\n",
    "print(\"Total test cat images      : \", len(os.listdir(test_cat_dir)))\n",
    "print(\"Total test dog images      : \", len(os.listdir(test_dog_dir)))"
   ]
  },
  {
   "cell_type": "code",
   "execution_count": null,
   "metadata": {},
   "outputs": [],
   "source": []
  }
 ],
 "metadata": {
  "kernelspec": {
   "display_name": "Python 3",
   "language": "python",
   "name": "python3"
  },
  "language_info": {
   "codemirror_mode": {
    "name": "ipython",
    "version": 3
   },
   "file_extension": ".py",
   "mimetype": "text/x-python",
   "name": "python",
   "nbconvert_exporter": "python",
   "pygments_lexer": "ipython3",
   "version": "3.6.2"
  }
 },
 "nbformat": 4,
 "nbformat_minor": 2
}
